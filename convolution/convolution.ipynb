{
 "cells": [
  {
   "cell_type": "markdown",
   "metadata": {},
   "source": [
    "## Want to discuss this and more?\n",
    "Head over to [MathLovers](https://matrix.to/#/#mathlovers:diasp.in) and share your ideas and questions with\n",
    "like-minded maths enthusiasts.\n",
    "\n",
    "## License\n",
    "Copyright (c) 2017 Gokul Das B\n",
    "\n",
    "*Software Code* in this code tree are under MIT license. *Documentation, media and graphs (including generated ones)*\n",
    "in the code tree are under Creative Commons Attribution 4.0 license. You may use and distribute the contents subject\n",
    "to the terms of these licenses. Refer to LICENSE.txt at the root of code tree for more details."
   ]
  },
  {
   "cell_type": "markdown",
   "metadata": {},
   "source": [
    "# Convolution\n",
    "\n",
    "$$f(t) * g(t) = \\int_{-\\infty}^{\\infty}f(\\tau)g(t - \\tau)d\\tau$$\n",
    "\n",
    "This is the formula for convolution sum. Looks complicated? You have company! Yet, this formula describes one\n",
    "of the most common phenomenon in nature. It describes how waves are modified by the medium they pass through.\n",
    "It means everything from how you sound over the telephones, to how the building shakes during an earthquake.\n",
    "It is the staple of signal processing, and its knowledge is essential to understand how electronic circuits\n",
    "work.\n",
    "\n",
    "If convolution is such an innate aspect of nature, why does it look so alien and incomprehensible? The truth\n",
    "is that the formalism of this equation hides an elegant simplicity. You already know this phenomenon well! You\n",
    "have experienced it and you know what to expect. Let's try to reconstruct the equation from your real-life\n",
    "experience, and thus remove the veil of complexity in the equation.\n",
    "\n",
    "Consider this situation. You're at a hill station near a cliff. You shout out 'hello' loudly. You know what to\n",
    "expect next! Several echoes of the same 'hello'. And you know why it happens - your 'hello' is echoing off\n",
    "several mountain faces. If you enjoyed it, you just enjoyed the consequence of the complicated equation above!\n",
    "**Repeated echoes are convolution** happening at life's pace! It is slow enough for you to recognize. We will\n",
    "re-create convolution sum from this experience."
   ]
  }
 ],
 "metadata": {
  "kernelspec": {
   "display_name": "Python 3",
   "language": "python",
   "name": "python3"
  },
  "language_info": {
   "codemirror_mode": {
    "name": "ipython",
    "version": 3
   },
   "file_extension": ".py",
   "mimetype": "text/x-python",
   "name": "python",
   "nbconvert_exporter": "python",
   "pygments_lexer": "ipython3",
   "version": "3.6.2"
  }
 },
 "nbformat": 4,
 "nbformat_minor": 2
}
