{
 "cells": [
  {
   "cell_type": "markdown",
   "metadata": {},
   "source": [
    "# Aliasing\n",
    "\n",
    "Just imagine - you recorded a high pitch sound on a recorder. But it sounds a very different low pitch when you\n",
    "play it back - due to a particular glitch on your recorder. Such a phenomenon in signal processing is called\n",
    "'aliasing'. Fortunately, consumers don't usually have to deal with that mess, because design engineers do what is\n",
    "necessary to avoid aliasing. But there is no escape for engineers and DIYers - you have to deal with it.\n",
    "\n",
    "This notebook is a simplified description of aliasing. Though it sounds complicated, it is a surprisingly simple\n",
    "phenomenon - a side effect of the magic of sine waves. Let's see what it means."
   ]
  },
  {
   "cell_type": "code",
   "execution_count": null,
   "metadata": {},
   "outputs": [],
   "source": []
  },
  {
   "cell_type": "markdown",
   "metadata": {},
   "source": [
    "## Want to discuss this and more?\n",
    "Head over to [MathLovers](https://matrix.to/#/#mathlovers:diasp.in) and share your ideas and questions with\n",
    "like-minded maths enthusiasts.\n",
    "\n",
    "## License\n",
    "Copyright (c) 2017 Gokul Das B\n",
    "\n",
    "*Software Code* in this code tree are under MIT license. *Documentation, media and graphs (including generated ones)*\n",
    "in the code tree are under Creative Commons Attribution 4.0 license. You may use and distribute the contents subject\n",
    "to the terms of these licenses. Refer to LICENSE.txt at the root of code tree for more details."
   ]
  }
 ],
 "metadata": {
  "kernelspec": {
   "display_name": "Python 3",
   "language": "python",
   "name": "python3"
  },
  "language_info": {
   "codemirror_mode": {
    "name": "ipython",
    "version": 3
   },
   "file_extension": ".py",
   "mimetype": "text/x-python",
   "name": "python",
   "nbconvert_exporter": "python",
   "pygments_lexer": "ipython3",
   "version": "3.6.2"
  }
 },
 "nbformat": 4,
 "nbformat_minor": 2
}
