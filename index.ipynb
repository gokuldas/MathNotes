{
 "cells": [
  {
   "cell_type": "markdown",
   "metadata": {},
   "source": [
    "# MathNotes: Attempt to Explain Math, Pure & Simple  \n",
    "\n",
    "This code tree is a bunch of Jupyter Notebooks designed to explain math to\n",
    "common man in simple terms. Each notebook contains the complete explanation for\n",
    "a topic with graphs, equation and commentry. The pages can be viewed on the\n",
    "Gitlab itself (following links below), or can be downloaded and viewed locally\n",
    "on your system. \n",
    "\n",
    "## Requirements and Usage\n",
    "In order to view and edit these notebooks locally, you will need Python3\n",
    "scientific stack (Python3, Numpy, Matplotlib, Jupyter, etc) installed. You can\n",
    "get the entire python scientific stack for almost any operating system by\n",
    "installing [Anaconda Distribution](https://www.anaconda.com/download/). Choose\n",
    "Python 3.x version of the stack.\n",
    "\n",
    "Once you have the stack installed, you can clone this repository and run jupyter\n",
    "notebook from it. For GNU/Linux, you can use the following bash/zsh commands:\n",
    "\n",
    "```sh\n",
    "git clone https://gitlab.com/gokuldasb/MathNotes.git\n",
    "cd MathNotes\n",
    "jupyter notebook\n",
    "```\n",
    "\n",
    "## Topics\n",
    "\n",
    "### [Aliasing](aliasing/aliasing.ipynb)\n",
    "Aliasing is a very egragious signal processing design problem that every\n",
    "engineer and DIYer should know. What if the pitch of your audio changes\n",
    "unexpectedly, or your control system has unknown frequencies in it?\n",
    "\n",
    "Open [this notebook](aliasing/aliasing.ipynb) to know more.\n",
    "\n",
    "### [Convolution [WIP]](convolution/convolution.ipynb)\n",
    "Convolution sums look complicated, but they describe a very simple phenomenon.\n",
    "Everything from how you sound over the phone to how spacecrafts vibrate in\n",
    "flight. Most people already have real-life experience of convolution, but dont\n",
    "recognize its formalization.\n",
    "\n",
    "Open [this notebook](convolution/convolution.ipynb) to know more.\n",
    "\n",
    "## Community\n",
    "Want to discuss this and more? Head over to\n",
    "[MathLovers](https://matrix.to/#/#mathlovers:diasp.in) and share your ideas and\n",
    "questions with like-minded maths enthusiasts.\n",
    "\n",
    "## License\n",
    "Copyright (c) 2017 Gokul Das B\n",
    "\n",
    "Software Code in this code tree are under MIT license. Documentation, media\n",
    "and graphs (including generated ones) in the code tree are under Creative\n",
    "Commons Attribution 4.0 license. You may use and distribute the contents subject\n",
    "to the terms of these licenses. Refer [LICENSE.txt](LICENSE.txt) for more\n",
    "details.\n"
   ]
  }
 ],
 "metadata": {
  "kernelspec": {
   "display_name": "Python 3",
   "language": "python",
   "name": "python3"
  },
  "language_info": {
   "codemirror_mode": {
    "name": "ipython",
    "version": 3
   },
   "file_extension": ".py",
   "mimetype": "text/x-python",
   "name": "python",
   "nbconvert_exporter": "python",
   "pygments_lexer": "ipython3",
   "version": "3.6.3"
  }
 },
 "nbformat": 4,
 "nbformat_minor": 2
}
